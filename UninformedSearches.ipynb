{
  "nbformat": 4,
  "nbformat_minor": 0,
  "metadata": {
    "colab": {
      "provenance": [],
      "authorship_tag": "ABX9TyN2ItmUa0NTjmOzwCgyZAOj",
      "include_colab_link": true
    },
    "kernelspec": {
      "name": "python3",
      "display_name": "Python 3"
    },
    "language_info": {
      "name": "python"
    }
  },
  "cells": [
    {
      "cell_type": "markdown",
      "metadata": {
        "id": "view-in-github",
        "colab_type": "text"
      },
      "source": [
        "<a href=\"https://colab.research.google.com/github/mimrancomsats/programmingforAI/blob/main/UninformedSearches.ipynb\" target=\"_parent\"><img src=\"https://colab.research.google.com/assets/colab-badge.svg\" alt=\"Open In Colab\"/></a>"
      ]
    },
    {
      "cell_type": "markdown",
      "source": [
        "# **Without Function and without GOAL**"
      ],
      "metadata": {
        "id": "FlAYLUoLcuYp"
      }
    },
    {
      "cell_type": "code",
      "source": [
        "graph = {'A':['B','C'],\n",
        "         'B':['D','E'],\n",
        "         'C':['F','G'],\n",
        "         'D':['H'],\n",
        "         'E':[],\n",
        "         'F':['I','J'],\n",
        "         'G':[],\n",
        "         'H':[],\n",
        "         'I':[],\n",
        "         'J':[]}\n",
        "\n",
        "\n",
        "print ('Traversal')\n",
        "closed=[]\n",
        "opened=['A']\n",
        "while opened:\n",
        "    node=opened.pop(0)\n",
        "    if node not  in closed and node not in opened:\n",
        "      closed.append(node)\n",
        "      opened.extend(graph[node])\n",
        "print (closed)\n",
        "\n",
        "#BFS Traversal"
      ],
      "metadata": {
        "colab": {
          "base_uri": "https://localhost:8080/"
        },
        "id": "RNc3688QUTho",
        "outputId": "5c506529-dc0f-4ebc-85e6-4a506f98870f"
      },
      "execution_count": null,
      "outputs": [
        {
          "output_type": "stream",
          "name": "stdout",
          "text": [
            "Traversal\n",
            "['A', 'B', 'C', 'D', 'E', 'F', 'G', 'H', 'I', 'J']\n"
          ]
        }
      ]
    },
    {
      "cell_type": "markdown",
      "source": [
        "# **With Function and First Logic**"
      ],
      "metadata": {
        "id": "i_bfKEwJdbbv"
      }
    },
    {
      "cell_type": "code",
      "source": [
        "def bfs_connection(graph,start,end):\n",
        "    open = [start]\n",
        "    closed=[]\n",
        "    while open:\n",
        "        node = open.pop(0)\n",
        "        if node is not end:\n",
        "          if node not in closed:\n",
        "              closed.append(node)\n",
        "              neighbors = graph[node]\n",
        "              for neighbors in neighbors:\n",
        "                  open.append(neighbors)\n",
        "        else:\n",
        "          closed.append(node)\n",
        "          print(closed)\n",
        "          break\n",
        "\n",
        "\n",
        "\n",
        "graph = {\n",
        "    'A':['B','C'],\n",
        "    'B':['D','E'],\n",
        "    'C':['F','G'],\n",
        "    'D':[],\n",
        "    'E':[],\n",
        "    'F':[],\n",
        "    'G':[]\n",
        "}\n",
        "\n",
        "graph = {'A':['B','C'],\n",
        "         'B':['D','E'],\n",
        "         'C':['F','G'],\n",
        "         'D':['H'],\n",
        "         'E':[],\n",
        "         'F':['I','J'],\n",
        "         'G':[],\n",
        "         'H':[],\n",
        "         'I':[],\n",
        "         'J':[]}\n",
        "\n",
        "bfs_connection(graph,'A','G')\n"
      ],
      "metadata": {
        "colab": {
          "base_uri": "https://localhost:8080/"
        },
        "id": "f0WQkh6FUWB2",
        "outputId": "39182f5f-b338-4225-9a15-050a7ba4f4c3"
      },
      "execution_count": null,
      "outputs": [
        {
          "output_type": "stream",
          "name": "stdout",
          "text": [
            "['A', 'B', 'C', 'D', 'E', 'F', 'G']\n"
          ]
        }
      ]
    },
    {
      "cell_type": "markdown",
      "source": [
        "# **With Function and without Goal**"
      ],
      "metadata": {
        "id": "tbNsRfzNdl92"
      }
    },
    {
      "cell_type": "code",
      "source": [
        "def bfs_connection(graph,start):\n",
        "    explored=[]\n",
        "    queue = [start]\n",
        "    while queue:\n",
        "        node = queue.pop(0)\n",
        "        if node not in explored:\n",
        "            explored.append(node)\n",
        "            neighbors = graph[node]\n",
        "            for neighbors in neighbors:\n",
        "                queue.append(neighbors)\n",
        "    print(explored)\n",
        "\n",
        "\n",
        "graph = {\n",
        "    'A':['B','C'],\n",
        "    'B':['D','E'],\n",
        "    'C':['F','G'],\n",
        "    'D':[],\n",
        "    'E':[],\n",
        "    'F':[],\n",
        "    'G':[]\n",
        "}\n",
        "\n",
        "bfs_connection(graph,'A')\n"
      ],
      "metadata": {
        "id": "ky1cj8xCZSc2"
      },
      "execution_count": null,
      "outputs": []
    },
    {
      "cell_type": "markdown",
      "source": [
        "# **With Functions, With Goal and Final Solution**"
      ],
      "metadata": {
        "id": "F4WaefRTghk0"
      }
    },
    {
      "cell_type": "code",
      "source": [
        "def bfs_traversal(graph, start, goal):\n",
        "    opened = [start]\n",
        "    closed = []\n",
        "    while opened:\n",
        "        node = opened.pop(0)\n",
        "        if node is not goal:\n",
        "          if node not in closed and node not in opened:\n",
        "              closed.append(node)\n",
        "              opened.extend(graph[node])\n",
        "        else:\n",
        "          closed.append(node)\n",
        "          return closed\n",
        "\n",
        "\n",
        "\n",
        "def dfs_traversal(graph, start, goal):\n",
        "    closed = []\n",
        "    opened = [start]\n",
        "    while opened:\n",
        "        node = opened.pop(0)\n",
        "        if node is not goal:\n",
        "          if node not in closed and node not in opened:\n",
        "              closed = closed + [node]\n",
        "              opened = graph[node] + opened\n",
        "        else:\n",
        "          closed.append(node)\n",
        "          return closed\n",
        "\n",
        "\n",
        "graph = {'A':['B','C'],\n",
        "         'B':['D','E'],\n",
        "         'C':['F','G'],\n",
        "         'D':['H'],\n",
        "         'E':[],\n",
        "         'F':['I','J'],\n",
        "         'G':[],\n",
        "         'H':[],\n",
        "         'I':[],\n",
        "         'J':[]}\n",
        "\n",
        "\n",
        "print(\"BFS\")\n",
        "print(bfs_traversal(graph,'A','G'))\n",
        "print(\"DFS\")\n",
        "print(dfs_traversal(graph,'A','E'))\n",
        "\n"
      ],
      "metadata": {
        "colab": {
          "base_uri": "https://localhost:8080/"
        },
        "id": "vKirgvXMZvDa",
        "outputId": "dc3e3218-f6da-45e7-e808-1e5c9fcaca73"
      },
      "execution_count": 1,
      "outputs": [
        {
          "output_type": "stream",
          "name": "stdout",
          "text": [
            "BFS\n",
            "['A', 'B', 'C', 'D', 'E', 'F', 'G']\n",
            "DFS\n",
            "['A', 'B', 'D', 'H', 'E']\n"
          ]
        }
      ]
    },
    {
      "cell_type": "code",
      "source": [
        "def bfs_connection(graph,start):\n",
        "    closed=[]\n",
        "    opened=['A']\n",
        "    while opened:\n",
        "      node=opened.pop(0)\n",
        "      if node not  in closed and node not in opened:\n",
        "        closed=closed+[node]\n",
        "        opened=graph[node].append(opened)\n",
        "    print (closed)\n",
        "\n",
        "graph = {'A':['B','C'],\n",
        "         'B':['D','E'],\n",
        "         'C':['F','G'],\n",
        "         'D':['H'],\n",
        "         'E':[],\n",
        "         'F':['I','J'],\n",
        "         'G':[],\n",
        "         'H':[],\n",
        "         'I':[],\n",
        "         'J':[]}\n",
        "\n",
        "bfs_connection(graph,'A')"
      ],
      "metadata": {
        "colab": {
          "base_uri": "https://localhost:8080/"
        },
        "id": "-Ogb4h0iVDR0",
        "outputId": "b6ef5c88-4a56-4007-c2d0-66fb9cfdb073"
      },
      "execution_count": null,
      "outputs": [
        {
          "output_type": "stream",
          "name": "stdout",
          "text": [
            "['A']\n"
          ]
        }
      ]
    }
  ]
}