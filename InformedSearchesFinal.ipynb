{
  "nbformat": 4,
  "nbformat_minor": 0,
  "metadata": {
    "colab": {
      "provenance": [],
      "authorship_tag": "ABX9TyMsLJlaN7AJSzelLR8u4eX+",
      "include_colab_link": true
    },
    "kernelspec": {
      "name": "python3",
      "display_name": "Python 3"
    },
    "language_info": {
      "name": "python"
    }
  },
  "cells": [
    {
      "cell_type": "markdown",
      "metadata": {
        "id": "view-in-github",
        "colab_type": "text"
      },
      "source": [
        "<a href=\"https://colab.research.google.com/github/mimrancomsats/programmingforAI/blob/main/InformedSearchesFinal.ipynb\" target=\"_parent\"><img src=\"https://colab.research.google.com/assets/colab-badge.svg\" alt=\"Open In Colab\"/></a>"
      ]
    },
    {
      "cell_type": "markdown",
      "source": [
        "# **Greedy Best First Search**"
      ],
      "metadata": {
        "id": "c4ugNQ2AgkC6"
      }
    },
    {
      "cell_type": "code",
      "execution_count": 9,
      "metadata": {
        "colab": {
          "base_uri": "https://localhost:8080/"
        },
        "id": "1sVb7vIkCYGr",
        "outputId": "938fe719-3f7e-45ce-dca9-8f4246817e50"
      },
      "outputs": [
        {
          "output_type": "stream",
          "name": "stdout",
          "text": [
            "--------------------------\n",
            "current ['Arad', 0]\n",
            "current[0] ['Arad']\n",
            "before sort [['Zerind', 374], ['Timisoara', 329], ['Sibiu', 253]]\n",
            "after sort [['Sibiu', 253], ['Timisoara', 329], ['Zerind', 374]]\n",
            "--------------------------\n",
            "current ['Sibiu', 253]\n",
            "current[0] ['Sibiu']\n",
            "before sort [['Timisoara', 329], ['Zerind', 374], ['Rimniciu Vilcea', 193], ['Fagaras', 178], ['Arad', 366]]\n",
            "after sort [['Fagaras', 178], ['Rimniciu Vilcea', 193], ['Timisoara', 329], ['Arad', 366], ['Zerind', 374]]\n",
            "--------------------------\n",
            "current ['Fagaras', 178]\n",
            "current[0] ['Fagaras']\n",
            "before sort [['Rimniciu Vilcea', 193], ['Timisoara', 329], ['Arad', 366], ['Zerind', 374], ['Sibiu', 253], ['Bucharest', 0]]\n",
            "after sort [['Bucharest', 0], ['Rimniciu Vilcea', 193], ['Sibiu', 253], ['Timisoara', 329], ['Arad', 366], ['Zerind', 374]]\n",
            "--------------------------\n",
            "current ['Bucharest', 0]\n",
            "current[0] ['Bucharest']\n",
            "before sort [['Rimniciu Vilcea', 193], ['Sibiu', 253], ['Timisoara', 329], ['Arad', 366], ['Zerind', 374], ['Giurgiu', 77], ['Urziceni', 80], ['Fagaras', 178], ['Pitesti', 98]]\n",
            "after sort [['Giurgiu', 77], ['Urziceni', 80], ['Pitesti', 98], ['Fagaras', 178], ['Rimniciu Vilcea', 193], ['Sibiu', 253], ['Timisoara', 329], ['Arad', 366], ['Zerind', 374]]\n",
            "['Arad', 'Sibiu', 'Fagaras', 'Bucharest']\n"
          ]
        }
      ],
      "source": [
        "from operator import itemgetter\n",
        "\n",
        "def gbfs_traversal(graph, start, goal):\n",
        "    open = [start]\n",
        "    close = []\n",
        "    while open:\n",
        "        #print('open',open)\n",
        "        current = open.pop(0)\n",
        "        print('--------------------------')\n",
        "        print('current',current)\n",
        "        if current[0] not in close:\n",
        "            print('current[0]',[current[0]])\n",
        "            close = close + [current[0]]\n",
        "        for node in graph[current[0]]:\n",
        "            #print('node',node)\n",
        "            if node not in open and node not in close:\n",
        "                open = open + [node]\n",
        "        print('before sort',open)\n",
        "        open.sort(key=itemgetter(1))\n",
        "        print('after sort',open)\n",
        "                #open=sorted(open,key=itemgetter(0))\n",
        "        if goal in close:\n",
        "            break\n",
        "\n",
        "    return close\n",
        "\n",
        "\n",
        "graph = {'Arad': [['Zerind', 374], ['Timisoara', 329], ['Sibiu', 253]],\n",
        "         'Zerind': [['Oradea', 380], ['Arad', 366]],\n",
        "         'Oradea': [['Sibiu', 253]],\n",
        "         'Sibiu': [['Rimniciu Vilcea', 193], ['Fagaras', 178], ['Arad', 366]],\n",
        "         'Fagaras': [['Sibiu', 253], ['Bucharest', 0]],\n",
        "         'Rimniciu Vilcea': [['Pitesti', 98], ['Craiova', 160], ['Sibiu', 253]],\n",
        "         'Timisoara': [['Lugoj', 244], ['Arad', 366]],\n",
        "         'Lugoj': [['Mehadia', 241]],\n",
        "         'Mehadia': [['Lugoj', 244], ['Dobreta', 242]],\n",
        "         'Dobreta': [['Mehadia', 241], ['Craiova', 160]],\n",
        "         'Pitesti': [['Craiova', 160], ['Bucharest', 0]],\n",
        "         'Craiova': [['Pitesti', 98], ['Dobreta', 242], ['Rimniciu Vilcea', 193]],\n",
        "         'Bucharest': [['Giurgiu', 77], ['Urziceni', 80], ['Fagaras', 178], ['Pitesti', 98]],\n",
        "         'Giurgiu': [['Bucharest', 0]],\n",
        "         'Urziceni': [['Vaslui', 199], ['Hirsova', 151], ['Bucharest', 0]],\n",
        "         'Vaslui': [['Lasi', 226], ['Urziceni', 80]],\n",
        "         'Lasi': [['Neamt', 234], ['Vaslui', 199]],\n",
        "         'Neamt': [['Lasi', 226]],\n",
        "         'Hirsova': [['Eforie', 161], ['Urziceni', 80]],\n",
        "         'Eforie': [['Hirsova', 151]],\n",
        "         }\n",
        "\n",
        "print(gbfs_traversal(graph, ['Arad',0],'Bucharest'))"
      ]
    },
    {
      "cell_type": "markdown",
      "source": [
        "# **Sorting using Prioity Queue**"
      ],
      "metadata": {
        "id": "N2fQq5N7gwby"
      }
    },
    {
      "cell_type": "code",
      "source": [
        "from queue import PriorityQueue\n",
        "\n",
        "def gbfs_traversal(graph, start, goal):\n",
        "    open = PriorityQueue()\n",
        "    open = open.put(start)\n",
        "    print(open)\n",
        "    close = []\n",
        "    while open:\n",
        "        print('open',open)\n",
        "        current = open.pop(0)\n",
        "        print('current',current)\n",
        "        if current not in close:\n",
        "            print('current[0]',current[0])\n",
        "            close = close + [current[0]]\n",
        "        for node in graph[current[0]]:\n",
        "            print('node',node)\n",
        "            if node not in open and node not in close:\n",
        "                #open = open + [node]\n",
        "                open.put(([node], open))\n",
        "                #open.sort(key=itemgetter(1))\n",
        "                #open=sorted(open,key=itemgetter(1))\n",
        "        if goal in close:\n",
        "            break\n",
        "\n",
        "    return close\n",
        "\n",
        "\n",
        "graph = {'Arad': [['Zerind', 374], ['Timisoara', 329], ['Sibiu', 253]],\n",
        "         'Zerind': [['Oradea', 380], ['Arad', 366]],\n",
        "         'Oradea': [['Sibiu', 253]],\n",
        "         'Sibiu': [['Rimniciu Vilcea', 193], ['Fagaras', 178], ['Arad', 366]],\n",
        "         'Fagaras': [['Sibiu', 253], ['Bucharest', 0]],\n",
        "         'Rimniciu Vilcea': [['Pitesti', 98], ['Craiova', 160], ['Sibiu', 253]],\n",
        "         'Timisoara': [['Lugoj', 244], ['Arad', 366]],\n",
        "         'Lugoj': [['Mehadia', 241]],\n",
        "         'Mehadia': [['Lugoj', 244], ['Dorbeta', 242]],\n",
        "         'Dobreta': [['Mehadia', 241], ['Craiova', 160]],\n",
        "         'Pitesti': [['Craiova', 160], ['Bucharest', 0]],\n",
        "         'Craiova': [['Pitesti', 98], ['Dobreta', 242], ['Rimniciu Vilcea', 193]],\n",
        "         'Bucharest': [['Giurgiu', 77], ['Urziceni', 80], ['Fagaras', 178], ['Pitesti', 98]],\n",
        "         'Giurgiu': [['Bucharest', 0]],\n",
        "         'Urziceni': [['Vaslui', 199], ['Hirsova', 151], ['Bucharest', 0]],\n",
        "         'Vaslui': [['Lasi', 226], ['Urziceni', 80]],\n",
        "         'Lasi': [['Neamt', 234], ['Vaslui', 199]],\n",
        "         'Neamt': [['Lasi', 226]],\n",
        "         'Hirsova': [['Eforie', 161], ['Urziceni', 80]],\n",
        "         'Eforie': [['Hirsova', 151]],\n",
        "         }\n",
        "\n",
        "print(gbfs_traversal(graph, ['Arad'],'Bucharest'))"
      ],
      "metadata": {
        "colab": {
          "base_uri": "https://localhost:8080/"
        },
        "id": "BrAaG63UgPwF",
        "outputId": "3db29ead-3337-4620-ca8e-0d0874b9f9f1"
      },
      "execution_count": 10,
      "outputs": [
        {
          "output_type": "stream",
          "name": "stdout",
          "text": [
            "None\n",
            "[]\n"
          ]
        }
      ]
    },
    {
      "cell_type": "markdown",
      "source": [
        "# **AStar Algorithm**"
      ],
      "metadata": {
        "id": "Dpg5QVlqtFJx"
      }
    },
    {
      "cell_type": "code",
      "source": [
        "from operator import itemgetter\n",
        "\n",
        "\n",
        "def astarik_traversal(graph, start, goal):\n",
        "    open = [start]\n",
        "    close = []\n",
        "    while open:\n",
        "        print('----------------------------------------')\n",
        "        current = open.pop(0)\n",
        "        print('current',current)\n",
        "        if current not in close:\n",
        "            close = close + [current]\n",
        "            print('close',close)\n",
        "        for node in graph[current[0]]:\n",
        "            if node not in open and node not in close:\n",
        "                #print(close[-1][1]+node[1])\n",
        "                open = open + [[node[0],close[-1][1]+node[1],node[2]]]\n",
        "                print('open',open)\n",
        "        open.sort(key=lambda element:element[1]+element[2])\n",
        "        print('sortedopen',open)\n",
        "\n",
        "        if goalCheck(close,goal):\n",
        "            break\n",
        "\n",
        "    return [a[0] for a in close]\n",
        "\n",
        "def goalCheck(close,goal):\n",
        "    #print('close',close)\n",
        "    for element in close:\n",
        "        #print('element',element)\n",
        "        if goal in element:\n",
        "            return True\n",
        "    return False\n",
        "\n",
        "graph = {'Arad': [['Zerind', 75, 374], ['Timisoara', 118, 329], ['Sibiu', 140, 253]],\n",
        "         'Zerind': [['Oradea', 71, 380], ['Arad', 75, 366]],\n",
        "         'Oradea': [['Zerind', 71, 374], ['Sibiu', 151, 253]],\n",
        "         'Sibiu': [['Rimniciu Vilcea', 80, 193], ['Fagaras', 99, 176], ['Arad', 140, 366], ['Oradea', 151, 380]],\n",
        "         'Fagaras': [['Sibiu', 99, 253], ['Bucharest', 211, 0]],\n",
        "         'Rimniciu Vilcea': [['Pitesti', 97, 100], ['Craiova', 146, 160], ['Sibiu', 80, 253]],\n",
        "         'Timisoara': [['Lugoj', 111, 244], ['Arad', 118, 366]],\n",
        "         'Lugoj': [['Mehadia', 70, 241], ['Timisoara', 111, 329]],\n",
        "         'Mehadia': [['Lugoj', 70, 244], ['Dobreta', 75, 242]],\n",
        "         'Dobreta': [['Mehadia', 75, 241], ['Craiova', 120, 160]],\n",
        "         'Pitesti': [['Craiova', 138, 160], ['Bucharest', 101, 0]],\n",
        "         'Craiova': [['Pitesti', 138, 100], ['Dobreta', 120, 242], ['Rimniciu Vilcea', 146, 193]],\n",
        "         'Bucharest': [['Giurgiu', 90, 77], ['Urziceni', 85, 80], ['Fagaras', 211, 178], ['Pitesti', 101, 100]],\n",
        "         'Giurgiu': [['Bucharest', 90, 0]],\n",
        "         'Urziceni': [['Vaslui', 142, 199], ['Hirsova', 98, 151], ['Bucharest', 85, 0]],\n",
        "         'Vaslui': [['Lasi', 92, 226], ['Urziceni', 142, 80]],\n",
        "         'Lasi': [['Neamt', 87, 234], ['Vaslui', 92, 199]],\n",
        "         'Neamt': [['Lasi', 87, 226]],\n",
        "         'Hirsova': [['Eforie', 86, 161], ['Urziceni', 98, 80]],\n",
        "         'Eforie': [['Hirsova', 86, 151]], }\n",
        "\n",
        "print(astarik_traversal(graph, ['Arad',0, -1], 'Bucharest'))\n"
      ],
      "metadata": {
        "colab": {
          "base_uri": "https://localhost:8080/"
        },
        "id": "S6Jf3QRBkVSZ",
        "outputId": "8c1e1000-d429-44a3-ea4b-bfdc3606d476"
      },
      "execution_count": 7,
      "outputs": [
        {
          "output_type": "stream",
          "name": "stdout",
          "text": [
            "----------------------------------------\n",
            "current ['Arad', 0, -1]\n",
            "close [['Arad', 0, -1]]\n",
            "open [['Zerind', 75, 374]]\n",
            "open [['Zerind', 75, 374], ['Timisoara', 118, 329]]\n",
            "open [['Zerind', 75, 374], ['Timisoara', 118, 329], ['Sibiu', 140, 253]]\n",
            "sortedopen [['Sibiu', 140, 253], ['Timisoara', 118, 329], ['Zerind', 75, 374]]\n",
            "----------------------------------------\n",
            "current ['Sibiu', 140, 253]\n",
            "close [['Arad', 0, -1], ['Sibiu', 140, 253]]\n",
            "open [['Timisoara', 118, 329], ['Zerind', 75, 374], ['Rimniciu Vilcea', 220, 193]]\n",
            "open [['Timisoara', 118, 329], ['Zerind', 75, 374], ['Rimniciu Vilcea', 220, 193], ['Fagaras', 239, 176]]\n",
            "open [['Timisoara', 118, 329], ['Zerind', 75, 374], ['Rimniciu Vilcea', 220, 193], ['Fagaras', 239, 176], ['Arad', 280, 366]]\n",
            "open [['Timisoara', 118, 329], ['Zerind', 75, 374], ['Rimniciu Vilcea', 220, 193], ['Fagaras', 239, 176], ['Arad', 280, 366], ['Oradea', 291, 380]]\n",
            "sortedopen [['Rimniciu Vilcea', 220, 193], ['Fagaras', 239, 176], ['Timisoara', 118, 329], ['Zerind', 75, 374], ['Arad', 280, 366], ['Oradea', 291, 380]]\n",
            "----------------------------------------\n",
            "current ['Rimniciu Vilcea', 220, 193]\n",
            "close [['Arad', 0, -1], ['Sibiu', 140, 253], ['Rimniciu Vilcea', 220, 193]]\n",
            "open [['Fagaras', 239, 176], ['Timisoara', 118, 329], ['Zerind', 75, 374], ['Arad', 280, 366], ['Oradea', 291, 380], ['Pitesti', 317, 100]]\n",
            "open [['Fagaras', 239, 176], ['Timisoara', 118, 329], ['Zerind', 75, 374], ['Arad', 280, 366], ['Oradea', 291, 380], ['Pitesti', 317, 100], ['Craiova', 366, 160]]\n",
            "open [['Fagaras', 239, 176], ['Timisoara', 118, 329], ['Zerind', 75, 374], ['Arad', 280, 366], ['Oradea', 291, 380], ['Pitesti', 317, 100], ['Craiova', 366, 160], ['Sibiu', 300, 253]]\n",
            "sortedopen [['Fagaras', 239, 176], ['Pitesti', 317, 100], ['Timisoara', 118, 329], ['Zerind', 75, 374], ['Craiova', 366, 160], ['Sibiu', 300, 253], ['Arad', 280, 366], ['Oradea', 291, 380]]\n",
            "----------------------------------------\n",
            "current ['Fagaras', 239, 176]\n",
            "close [['Arad', 0, -1], ['Sibiu', 140, 253], ['Rimniciu Vilcea', 220, 193], ['Fagaras', 239, 176]]\n",
            "open [['Pitesti', 317, 100], ['Timisoara', 118, 329], ['Zerind', 75, 374], ['Craiova', 366, 160], ['Sibiu', 300, 253], ['Arad', 280, 366], ['Oradea', 291, 380], ['Sibiu', 338, 253]]\n",
            "open [['Pitesti', 317, 100], ['Timisoara', 118, 329], ['Zerind', 75, 374], ['Craiova', 366, 160], ['Sibiu', 300, 253], ['Arad', 280, 366], ['Oradea', 291, 380], ['Sibiu', 338, 253], ['Bucharest', 450, 0]]\n",
            "sortedopen [['Pitesti', 317, 100], ['Timisoara', 118, 329], ['Zerind', 75, 374], ['Bucharest', 450, 0], ['Craiova', 366, 160], ['Sibiu', 300, 253], ['Sibiu', 338, 253], ['Arad', 280, 366], ['Oradea', 291, 380]]\n",
            "----------------------------------------\n",
            "current ['Pitesti', 317, 100]\n",
            "close [['Arad', 0, -1], ['Sibiu', 140, 253], ['Rimniciu Vilcea', 220, 193], ['Fagaras', 239, 176], ['Pitesti', 317, 100]]\n",
            "open [['Timisoara', 118, 329], ['Zerind', 75, 374], ['Bucharest', 450, 0], ['Craiova', 366, 160], ['Sibiu', 300, 253], ['Sibiu', 338, 253], ['Arad', 280, 366], ['Oradea', 291, 380], ['Craiova', 455, 160]]\n",
            "open [['Timisoara', 118, 329], ['Zerind', 75, 374], ['Bucharest', 450, 0], ['Craiova', 366, 160], ['Sibiu', 300, 253], ['Sibiu', 338, 253], ['Arad', 280, 366], ['Oradea', 291, 380], ['Craiova', 455, 160], ['Bucharest', 418, 0]]\n",
            "sortedopen [['Bucharest', 418, 0], ['Timisoara', 118, 329], ['Zerind', 75, 374], ['Bucharest', 450, 0], ['Craiova', 366, 160], ['Sibiu', 300, 253], ['Sibiu', 338, 253], ['Craiova', 455, 160], ['Arad', 280, 366], ['Oradea', 291, 380]]\n",
            "----------------------------------------\n",
            "current ['Bucharest', 418, 0]\n",
            "close [['Arad', 0, -1], ['Sibiu', 140, 253], ['Rimniciu Vilcea', 220, 193], ['Fagaras', 239, 176], ['Pitesti', 317, 100], ['Bucharest', 418, 0]]\n",
            "open [['Timisoara', 118, 329], ['Zerind', 75, 374], ['Bucharest', 450, 0], ['Craiova', 366, 160], ['Sibiu', 300, 253], ['Sibiu', 338, 253], ['Craiova', 455, 160], ['Arad', 280, 366], ['Oradea', 291, 380], ['Giurgiu', 508, 77]]\n",
            "open [['Timisoara', 118, 329], ['Zerind', 75, 374], ['Bucharest', 450, 0], ['Craiova', 366, 160], ['Sibiu', 300, 253], ['Sibiu', 338, 253], ['Craiova', 455, 160], ['Arad', 280, 366], ['Oradea', 291, 380], ['Giurgiu', 508, 77], ['Urziceni', 503, 80]]\n",
            "open [['Timisoara', 118, 329], ['Zerind', 75, 374], ['Bucharest', 450, 0], ['Craiova', 366, 160], ['Sibiu', 300, 253], ['Sibiu', 338, 253], ['Craiova', 455, 160], ['Arad', 280, 366], ['Oradea', 291, 380], ['Giurgiu', 508, 77], ['Urziceni', 503, 80], ['Fagaras', 629, 178]]\n",
            "open [['Timisoara', 118, 329], ['Zerind', 75, 374], ['Bucharest', 450, 0], ['Craiova', 366, 160], ['Sibiu', 300, 253], ['Sibiu', 338, 253], ['Craiova', 455, 160], ['Arad', 280, 366], ['Oradea', 291, 380], ['Giurgiu', 508, 77], ['Urziceni', 503, 80], ['Fagaras', 629, 178], ['Pitesti', 519, 100]]\n",
            "sortedopen [['Timisoara', 118, 329], ['Zerind', 75, 374], ['Bucharest', 450, 0], ['Craiova', 366, 160], ['Sibiu', 300, 253], ['Urziceni', 503, 80], ['Giurgiu', 508, 77], ['Sibiu', 338, 253], ['Craiova', 455, 160], ['Pitesti', 519, 100], ['Arad', 280, 366], ['Oradea', 291, 380], ['Fagaras', 629, 178]]\n",
            "['Arad', 'Sibiu', 'Rimniciu Vilcea', 'Fagaras', 'Pitesti', 'Bucharest']\n"
          ]
        }
      ]
    }
  ]
}