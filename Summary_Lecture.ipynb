{
  "nbformat": 4,
  "nbformat_minor": 0,
  "metadata": {
    "colab": {
      "provenance": [],
      "authorship_tag": "ABX9TyOOjpn5O04agxCuY6rsdYE1",
      "include_colab_link": true
    },
    "kernelspec": {
      "name": "python3",
      "display_name": "Python 3"
    },
    "language_info": {
      "name": "python"
    }
  },
  "cells": [
    {
      "cell_type": "markdown",
      "metadata": {
        "id": "view-in-github",
        "colab_type": "text"
      },
      "source": [
        "<a href=\"https://colab.research.google.com/github/mimrancomsats/programmingforAI/blob/main/Summary_Lecture.ipynb\" target=\"_parent\"><img src=\"https://colab.research.google.com/assets/colab-badge.svg\" alt=\"Open In Colab\"/></a>"
      ]
    },
    {
      "cell_type": "markdown",
      "source": [
        "# **Python Data Types**"
      ],
      "metadata": {
        "id": "6g_RP4zP_Hkt"
      }
    },
    {
      "cell_type": "code",
      "execution_count": null,
      "metadata": {
        "colab": {
          "base_uri": "https://localhost:8080/"
        },
        "id": "qr6x6iPa48I2",
        "outputId": "c33cf6c4-f92c-4c2a-9cf8-bfbd780f03f3"
      },
      "outputs": [
        {
          "output_type": "stream",
          "name": "stdout",
          "text": [
            "50\n",
            "None\n",
            "None\n"
          ]
        }
      ],
      "source": [
        "# Example code for a None Data Type.\n",
        "\n",
        "# Define a function that takes two numbers as arguments and returns their product\n",
        "def multiply(x, y):\n",
        "    if x is None or y is None:\n",
        "        return None\n",
        "    else:\n",
        "        return x * y\n",
        "\n",
        "# Call the function with two numbers\n",
        "result = multiply(10, 5)\n",
        "print(result)  # Output: 50\n",
        "\n",
        "# Call the function with one of the arguments set to None\n",
        "result = multiply(None, 5)\n",
        "print(result)  # Output: None\n",
        "\n",
        "# Call the function with both arguments set to None\n",
        "result = multiply(None, None)\n",
        "print(result)  # Output: None\n"
      ]
    },
    {
      "cell_type": "code",
      "source": [
        "# Example code of types Data Type\n",
        "import types\n",
        "\n",
        "# Define a simple function\n",
        "def say_hello():\n",
        "    print(\"Hello, World!\")\n",
        "\n",
        "# Define a simple class\n",
        "class Dog:\n",
        "    def __init__(self, name):\n",
        "        self.name = name\n",
        "\n",
        "    def bark(self):\n",
        "        print(f\"{self.name} says Woof!\")\n",
        "\n",
        "# Use the types module to check the types of objects\n",
        "print(isinstance(say_hello, types.FunctionType))  # Output: True\n",
        "#print(isinstance(Dog, types.Type))  # Output: True\n",
        "\n",
        "# Create an instance of the Dog class\n",
        "fido = Dog(\"Fido\")\n",
        "\n",
        "# Check the types of the instance and its attributes\n",
        "#print(isinstance(fido, types.InstanceType))  # Output: True\n",
        "print(isinstance(fido.bark, types.MethodType))  # Output: True\n"
      ],
      "metadata": {
        "colab": {
          "base_uri": "https://localhost:8080/"
        },
        "id": "_RsI6FHa7S_d",
        "outputId": "7931d8ce-43f8-4e03-8050-30f3ff3c094e"
      },
      "execution_count": null,
      "outputs": [
        {
          "output_type": "stream",
          "name": "stdout",
          "text": [
            "True\n",
            "True\n"
          ]
        }
      ]
    },
    {
      "cell_type": "markdown",
      "source": [
        "# **Python Range Function**"
      ],
      "metadata": {
        "id": "QMghxE0-_fNM"
      }
    },
    {
      "cell_type": "code",
      "source": [
        "# Example 1: Using range() with one argument\n",
        "# This will create a range from 0 to 9 (10 elements in total)\n",
        "for i in range(10):\n",
        "    print(i)  # Output: 0, 1, 2, 3, 4, 5, 6, 7, 8, 9\n",
        "\n",
        "# Example 2: Using range() with two arguments\n",
        "# This will create a range from 2 to 9 (7 elements in total)\n",
        "for i in range(2, 10):\n",
        "    print(i)  # Output: 2, 3, 4, 5, 6, 7, 8, 9\n",
        "\n",
        "# Example 3: Using range() with three arguments\n",
        "# This will create a range from 2 to 19, with a step of 3 (7 elements in total)\n",
        "for i in range(2, 20, 3):\n",
        "    print(i)  # Output: 2, 5, 8, 11, 14, 17\n",
        "\n",
        "# Example 4: Using range() to create a list of numbers\n",
        "# This will create a list of numbers from 2 to 19, with a step of 3 (7 elements in total)\n",
        "my_list = list(range(2, 20, 3))\n",
        "print(my_list)  # Output: [2, 5, 8, 11, 14, 17]\n",
        "\n",
        "# Example 5: Using range() to iterate over the indices of a list\n",
        "my_list = [10, 20, 30, 40, 50]\n",
        "for i in range(len(my_list)):\n",
        "    print(f\"Index {i}: {my_list[i]}\")  # Output: Index 0: 10, Index 1: 20, Index 2: 30, Index 3: 40, Index 4: 50\n"
      ],
      "metadata": {
        "colab": {
          "base_uri": "https://localhost:8080/"
        },
        "id": "8p4hNj9q8hU8",
        "outputId": "3b576f7d-3586-4707-bdde-d32527f75be6"
      },
      "execution_count": null,
      "outputs": [
        {
          "output_type": "stream",
          "name": "stdout",
          "text": [
            "0\n",
            "1\n",
            "2\n",
            "3\n",
            "4\n",
            "5\n",
            "6\n",
            "7\n",
            "8\n",
            "9\n",
            "2\n",
            "3\n",
            "4\n",
            "5\n",
            "6\n",
            "7\n",
            "8\n",
            "9\n",
            "2\n",
            "5\n",
            "8\n",
            "11\n",
            "14\n",
            "17\n",
            "[2, 5, 8, 11, 14, 17]\n",
            "Index 0: 10\n",
            "Index 1: 20\n",
            "Index 2: 30\n",
            "Index 3: 40\n",
            "Index 4: 50\n"
          ]
        }
      ]
    },
    {
      "cell_type": "markdown",
      "source": [
        "# **LIST Example Codes**"
      ],
      "metadata": {
        "id": "4cC4_ATh-x89"
      }
    },
    {
      "cell_type": "markdown",
      "source": [
        "# **Creating a List**"
      ],
      "metadata": {
        "id": "pRBRm5zmH_HS"
      }
    },
    {
      "cell_type": "code",
      "source": [
        "# Creating a list with square brackets\n",
        "list_a = [1, 2, 3, 4, 5]\n",
        "\n",
        "# Creating an empty list\n",
        "empty_list = []\n"
      ],
      "metadata": {
        "id": "8nHE-ZNZ-n5Q"
      },
      "execution_count": null,
      "outputs": []
    },
    {
      "cell_type": "markdown",
      "source": [
        "# **Accessing Elements**"
      ],
      "metadata": {
        "id": "6yKtEaJkIIOf"
      }
    },
    {
      "cell_type": "code",
      "source": [
        "# Accessing elements by index\n",
        "print(list_a[0])  # 1\n",
        "\n",
        "# Accessing the last element using negative index\n",
        "print(list_a[-1])  # 5\n",
        "\n",
        "# Accessing a range of elements\n",
        "print(list_a[1:4])  # [2, 3, 4]"
      ],
      "metadata": {
        "colab": {
          "base_uri": "https://localhost:8080/"
        },
        "id": "SK48Sz2SA5MI",
        "outputId": "a9f74172-cc86-41e9-921b-bb02ab480052"
      },
      "execution_count": null,
      "outputs": [
        {
          "output_type": "stream",
          "name": "stdout",
          "text": [
            "[1, 2, 3]\n",
            "['Charlie', 'David']\n"
          ]
        }
      ]
    },
    {
      "cell_type": "markdown",
      "source": [
        "# **Modifying Elements**"
      ],
      "metadata": {
        "id": "O8mMQ8OXISML"
      }
    },
    {
      "cell_type": "code",
      "source": [
        "# Modifying an element\n",
        "list_a[2] = 10\n",
        "print(list_a)  # [1, 2, 10, 4, 5]\n",
        "\n",
        "# Modifying multiple elements using slicing\n",
        "list_a[1:3] = [20, 30]\n",
        "print(list_a)  # [1, 20, 30, 4, 5]\n"
      ],
      "metadata": {
        "colab": {
          "base_uri": "https://localhost:8080/"
        },
        "id": "aNVS3FjABFcE",
        "outputId": "eebff5ea-c3b3-4532-aa62-242d37af6697"
      },
      "execution_count": null,
      "outputs": [
        {
          "output_type": "stream",
          "name": "stdout",
          "text": [
            "[1, 2, 3, 4, 5, 6]\n",
            "['Alice', 'Eve', 'Bob', 'Charlie', 'David']\n"
          ]
        }
      ]
    },
    {
      "cell_type": "markdown",
      "source": [
        "# **Appending and Extending**"
      ],
      "metadata": {
        "id": "Hrzur45nPvk1"
      }
    },
    {
      "cell_type": "code",
      "source": [
        "# Appending a single element\n",
        "list_a.append(6)\n",
        "print(list_a)  # [1, 20, 30, 4, 5, 6]\n",
        "\n",
        "# Extending with another list\n",
        "list_a.extend([7, 8, 9])\n",
        "print(list_a)  # [1, 20, 30, 4, 5, 6, 7, 8, 9]\n",
        "\n"
      ],
      "metadata": {
        "colab": {
          "base_uri": "https://localhost:8080/"
        },
        "id": "54hymWsJBPMh",
        "outputId": "c385192e-35aa-4d10-e039-ce9844899dd1"
      },
      "execution_count": null,
      "outputs": [
        {
          "output_type": "stream",
          "name": "stdout",
          "text": [
            "['Eve', 'Bob', 'Charlie', 'David']\n",
            "[1, 2, 4, 5, 6]\n"
          ]
        }
      ]
    },
    {
      "cell_type": "markdown",
      "source": [
        "# **Inserting and Removing**"
      ],
      "metadata": {
        "id": "IZ_PddfcQ-Qb"
      }
    },
    {
      "cell_type": "code",
      "source": [
        "# Inserting an element at a specific position\n",
        "list_a.insert(2, 100)\n",
        "print(list_a)  # [1, 20, 100, 30, 4, 5, 6, 7, 8, 9]\n",
        "\n",
        "# Removing an element by value\n",
        "list_a.remove(100)\n",
        "print(list_a)  # [1, 20, 30, 4, 5, 6, 7, 8, 9]\n",
        "\n",
        "# Removing an element by index\n",
        "del list_a[2]\n",
        "print(list_a)  # [1, 20, 4, 5, 6, 7, 8, 9]\n",
        "\n"
      ],
      "metadata": {
        "colab": {
          "base_uri": "https://localhost:8080/"
        },
        "id": "XX7UUXnyBuL8",
        "outputId": "430028fe-ed3a-4330-a349-01de5ba78543"
      },
      "execution_count": null,
      "outputs": [
        {
          "output_type": "stream",
          "name": "stdout",
          "text": [
            "True\n"
          ]
        }
      ]
    },
    {
      "cell_type": "markdown",
      "source": [
        "# **Sorting and Reversing**"
      ],
      "metadata": {
        "id": "0aLD0eWsRGsi"
      }
    },
    {
      "cell_type": "code",
      "source": [
        "# Sorting a list\n",
        "list_a.sort()\n",
        "print(list_a)  # [1, 4, 5, 6, 7, 8, 9, 20]\n",
        "\n",
        "# Reversing a list\n",
        "list_a.reverse()\n",
        "print(list_a)  # [20, 9, 8, 7, 6, 5, 4, 1]\n",
        "\n"
      ],
      "metadata": {
        "colab": {
          "base_uri": "https://localhost:8080/"
        },
        "id": "UuVybcVhB0nb",
        "outputId": "a9423f2c-f890-4939-ee68-e498561a2882"
      },
      "execution_count": null,
      "outputs": [
        {
          "output_type": "stream",
          "name": "stdout",
          "text": [
            "[1, 4, 16, 25, 36]\n"
          ]
        }
      ]
    },
    {
      "cell_type": "markdown",
      "source": [
        "# **List Comprehension**"
      ],
      "metadata": {
        "id": "D0yEe9s1RNO2"
      }
    },
    {
      "cell_type": "code",
      "source": [
        "# Creating a list using a list comprehension\n",
        "squared = [x**2 for x in range(10)]\n",
        "print(squared)  # [0, 1, 4, 9, 16, 25, 36, 49, 64, 81]\n",
        "\n"
      ],
      "metadata": {
        "colab": {
          "base_uri": "https://localhost:8080/"
        },
        "id": "-RZguP_3CWhg",
        "outputId": "462e4422-80b9-43b5-cfc4-7f748b3aaea5"
      },
      "execution_count": null,
      "outputs": [
        {
          "output_type": "stream",
          "name": "stdout",
          "text": [
            "Eve\n",
            "Bob\n",
            "Charlie\n",
            "David\n"
          ]
        }
      ]
    },
    {
      "cell_type": "markdown",
      "source": [
        "# **Nested Lists**"
      ],
      "metadata": {
        "id": "s8g8ztvURWPg"
      }
    },
    {
      "cell_type": "code",
      "source": [
        "# Nested lists\n",
        "nested_list = [[1, 2], [3, 4], [5, 6]]\n",
        "\n",
        "# Accessing elements of a nested list\n",
        "print(nested_list[0][0])  # 1\n",
        "print(nested_list[1][1])  # 4\n",
        "\n"
      ],
      "metadata": {
        "colab": {
          "base_uri": "https://localhost:8080/"
        },
        "id": "moQWwGIWCcbS",
        "outputId": "ef861cf4-a15f-49a8-c7ad-14c293d856b8"
      },
      "execution_count": null,
      "outputs": [
        {
          "output_type": "stream",
          "name": "stdout",
          "text": [
            "[1, 2, 4, 5, 6, 'Eve', 'Bob', 'Charlie', 'David']\n"
          ]
        }
      ]
    },
    {
      "cell_type": "markdown",
      "source": [
        "# **DICTIONARY Example Codes**"
      ],
      "metadata": {
        "id": "ZeL6Dzo4FPMp"
      }
    },
    {
      "cell_type": "markdown",
      "source": [
        "# **Creating Dictionary**"
      ],
      "metadata": {
        "id": "0Z4HXe_CRms5"
      }
    },
    {
      "cell_type": "code",
      "source": [
        "# Creating an empty dictionary\n",
        "empty_dict = {}\n",
        "\n",
        "# Creating a dictionary with key-value pairs\n",
        "person = {\"name\": \"John\", \"age\": 30, \"city\": \"New York\"}\n"
      ],
      "metadata": {
        "id": "s_qooCUdFYA2"
      },
      "execution_count": null,
      "outputs": []
    },
    {
      "cell_type": "code",
      "source": [
        "# Access a value using a key\n",
        "print(my_dict['name'])  # Output: Alice\n",
        "\n",
        "# Use the 'get' method to access a value, with a default value if the key does not exist\n",
        "print(my_dict.get('name', 'Default'))  # Output: Alice\n",
        "print(my_dict.get('gender', 'Not Found'))  # Output: Not Found\n"
      ],
      "metadata": {
        "colab": {
          "base_uri": "https://localhost:8080/"
        },
        "id": "YBRGZvRnFfDD",
        "outputId": "7e74f3aa-7faa-4789-b1fe-34336f88f77f"
      },
      "execution_count": null,
      "outputs": [
        {
          "output_type": "stream",
          "name": "stdout",
          "text": [
            "Alice\n",
            "Alice\n",
            "Not Found\n"
          ]
        }
      ]
    },
    {
      "cell_type": "markdown",
      "source": [
        "# **Accessing Elements**"
      ],
      "metadata": {
        "id": "PmFCEz16RtfX"
      }
    },
    {
      "cell_type": "code",
      "source": [
        "# Accessing elements by key\n",
        "print(person[\"name\"])  # \"John\"\n",
        "\n",
        "# Accessing a key that doesn't exist raises a KeyError\n",
        "# print(person[\"gender\"])  # KeyError: 'gender'\n",
        "\n",
        "# To avoid KeyError, use the get() method which returns None if the key doesn't exist\n",
        "print(person.get(\"gender\"))  # None\n",
        "\n",
        "# You can also provide a default value to get() method which will be returned if key is not found\n",
        "print(person.get(\"gender\", \"Not specified\"))  # \"Not specified\"\n"
      ],
      "metadata": {
        "colab": {
          "base_uri": "https://localhost:8080/"
        },
        "id": "SB4wAYkGFntP",
        "outputId": "808e05de-5e3e-4f45-8175-4b0851f8f299"
      },
      "execution_count": null,
      "outputs": [
        {
          "output_type": "stream",
          "name": "stdout",
          "text": [
            "31\n",
            "{'name': 'Alice', 'age': 31, 'city': 'New York', 'gender': 'Female'}\n"
          ]
        }
      ]
    },
    {
      "cell_type": "markdown",
      "source": [
        "# **Modifying Elements**"
      ],
      "metadata": {
        "id": "QdHVdg8CRzgp"
      }
    },
    {
      "cell_type": "code",
      "source": [
        "# Modifying a value\n",
        "person[\"age\"] = 31\n",
        "print(person)  # {\"name\": \"John\", \"age\": 31, \"city\": \"New York\"}\n",
        "\n",
        "# Adding a new key-value pair\n",
        "person[\"gender\"] = \"Male\"\n",
        "print(person)  # {\"name\": \"John\", \"age\": 31, \"city\": \"New York\", \"gender\": \"Male\"}\n",
        "\n",
        "# Updating a dictionary with another dictionary\n",
        "person.update({\"email\": \"john@example.com\", \"city\": \"San Francisco\"})\n",
        "print(person)  # {\"name\": \"John\", \"age\": 31, \"city\": \"San Francisco\", \"gender\": \"Male\", \"email\": \"john@example.com\"}\n",
        "\n"
      ],
      "metadata": {
        "colab": {
          "base_uri": "https://localhost:8080/"
        },
        "id": "d_YWinvoQMA5",
        "outputId": "81cc8192-1665-4d2a-8d65-37a8d97709e6"
      },
      "execution_count": null,
      "outputs": [
        {
          "output_type": "stream",
          "name": "stdout",
          "text": [
            "31\n",
            "{'name': 'Alice', 'age': 31, 'city': 'New York', 'gender': 'Female'}\n"
          ]
        }
      ]
    },
    {
      "cell_type": "markdown",
      "source": [
        "# **Deleting Elements**"
      ],
      "metadata": {
        "id": "r0Y8xq1DR6rv"
      }
    },
    {
      "cell_type": "code",
      "source": [
        "# Deleting a key-value pair by key\n",
        "del person[\"age\"]\n",
        "print(person)  # {\"name\": \"John\", \"city\": \"San Francisco\", \"gender\": \"Male\", \"email\": \"john@example.com\"}\n",
        "\n",
        "# Deleting a key-value pair and returning its value\n",
        "age = person.pop(\"age\")\n",
        "print(age)  # 31\n",
        "print(person)  # {\"name\": \"John\", \"city\": \"San Francisco\", \"gender\": \"Male\", \"email\": \"john@example.com\"}\n",
        "\n"
      ],
      "metadata": {
        "colab": {
          "base_uri": "https://localhost:8080/"
        },
        "id": "zuBEBlqOQfEU",
        "outputId": "8eed790b-8bee-4d3c-c8c8-bfff76cefdc6"
      },
      "execution_count": null,
      "outputs": [
        {
          "output_type": "stream",
          "name": "stdout",
          "text": [
            "{'name': 'Alice', 'city': 'New York', 'gender': 'Female'}\n",
            "New York\n",
            "{'name': 'Alice', 'gender': 'Female'}\n"
          ]
        }
      ]
    },
    {
      "cell_type": "markdown",
      "source": [
        "# **Looping over a Dictionary**"
      ],
      "metadata": {
        "id": "ZCPYVecVSB7R"
      }
    },
    {
      "cell_type": "code",
      "source": [
        "# Looping through keys\n",
        "for key in person:\n",
        "    print(key)  # \"name\", \"city\", \"gender\", \"email\"\n",
        "\n",
        "# Looping through values\n",
        "for value in person.values():\n",
        "    print(value)  # \"John\", \"San Francisco\", \"Male\", \"john@example.com\"\n",
        "\n",
        "# Looping through key-value pairs\n",
        "for key, value in person.items():\n",
        "    print(f\"{key}: {value}\")  # \"name: John\", \"city: San Francisco\", \"gender: Male\", \"email: john@example.com\"\n",
        "\n"
      ],
      "metadata": {
        "colab": {
          "base_uri": "https://localhost:8080/"
        },
        "id": "BXSR0-VVQmtI",
        "outputId": "40d97bf5-3384-45db-8ff6-12f3dc6371ef"
      },
      "execution_count": null,
      "outputs": [
        {
          "output_type": "stream",
          "name": "stdout",
          "text": [
            "name Alice\n",
            "gender Female\n"
          ]
        }
      ]
    },
    {
      "cell_type": "markdown",
      "source": [
        "# **Modules Handling using Session Storage**"
      ],
      "metadata": {
        "id": "yuP-vnifcy5q"
      }
    },
    {
      "cell_type": "code",
      "source": [
        "%%writefile my_module1.py\n",
        "\n",
        "\n",
        "def say_hello():\n",
        "    print(\"Hello from my_module!\")\n",
        "\n",
        "say_hello()"
      ],
      "metadata": {
        "colab": {
          "base_uri": "https://localhost:8080/"
        },
        "id": "kJLsqiupZssY",
        "outputId": "59c556ba-d1cd-4f4d-f8dc-aba3d6da6e29"
      },
      "execution_count": 1,
      "outputs": [
        {
          "output_type": "stream",
          "name": "stdout",
          "text": [
            "Writing my_module1.py\n"
          ]
        }
      ]
    },
    {
      "cell_type": "code",
      "source": [
        "!python my_module1.py"
      ],
      "metadata": {
        "colab": {
          "base_uri": "https://localhost:8080/"
        },
        "id": "UDbCW0D5bkGj",
        "outputId": "69433567-9678-4483-f7c2-1a60271ffd7d"
      },
      "execution_count": 3,
      "outputs": [
        {
          "output_type": "stream",
          "name": "stdout",
          "text": [
            "Hello from my_module!\n"
          ]
        }
      ]
    },
    {
      "cell_type": "code",
      "source": [
        "import my_module1\n",
        "from my_module1 import say_hello\n",
        "\n",
        "my_module1.say_hello()\n",
        "say_hello()\n",
        "\n"
      ],
      "metadata": {
        "colab": {
          "base_uri": "https://localhost:8080/"
        },
        "id": "WdbXffl0jBUO",
        "outputId": "0255eae4-ca6c-4a5f-d71b-39879828dd9e"
      },
      "execution_count": null,
      "outputs": [
        {
          "output_type": "stream",
          "name": "stdout",
          "text": [
            "Hello from my_module!\n",
            "Hello from my_module!\n",
            "Hello from my_module!\n"
          ]
        }
      ]
    },
    {
      "cell_type": "markdown",
      "source": [
        "# **Modules and Packages using Google Drive**"
      ],
      "metadata": {
        "id": "ig2Zl4WYSpb_"
      }
    },
    {
      "cell_type": "code",
      "source": [
        "from google.colab import drive\n",
        "drive.mount('/content/drive',force_remount=True)\n"
      ],
      "metadata": {
        "colab": {
          "base_uri": "https://localhost:8080/"
        },
        "id": "mTkdFc3mS-Vh",
        "outputId": "5b170cf1-3e43-41cf-d545-bb880556c975"
      },
      "execution_count": 4,
      "outputs": [
        {
          "output_type": "stream",
          "name": "stdout",
          "text": [
            "Mounted at /content/drive\n"
          ]
        }
      ]
    },
    {
      "cell_type": "code",
      "source": [
        "%%writefile module1.py\n",
        "def function1():\n",
        "    print(\"This is function1 in module1.\")"
      ],
      "metadata": {
        "colab": {
          "base_uri": "https://localhost:8080/"
        },
        "id": "BgHnIgofswqt",
        "outputId": "a2975a19-9ac2-45af-901f-f904da75236d"
      },
      "execution_count": 5,
      "outputs": [
        {
          "output_type": "stream",
          "name": "stdout",
          "text": [
            "Writing module1.py\n"
          ]
        }
      ]
    },
    {
      "cell_type": "code",
      "source": [
        "%%writefile module2.py\n",
        "def function2():\n",
        "    print(\"This is function2 in module2.\")\n"
      ],
      "metadata": {
        "colab": {
          "base_uri": "https://localhost:8080/"
        },
        "id": "c8wmcgwHtbd3",
        "outputId": "9e003a07-213c-4c42-d9dd-8d1cecffd350"
      },
      "execution_count": 6,
      "outputs": [
        {
          "output_type": "stream",
          "name": "stdout",
          "text": [
            "Writing module2.py\n"
          ]
        }
      ]
    },
    {
      "cell_type": "code",
      "source": [
        "!mkdir my_package"
      ],
      "metadata": {
        "id": "MRUDWAG_ukci"
      },
      "execution_count": 7,
      "outputs": []
    },
    {
      "cell_type": "code",
      "source": [
        "!mv module1.py '/content/my_package'\n",
        "!mv module2.py '/content/my_package'\n",
        "\n",
        "#!mv '/content/my_package/module1.py' '/content'\n",
        "#!mv '/content/my_package/module2.py' '/content'"
      ],
      "metadata": {
        "id": "9nR_t77GmS8k"
      },
      "execution_count": 8,
      "outputs": []
    },
    {
      "cell_type": "code",
      "source": [
        "!mv '/content/module1.py' '/content/drive/MyDrive/Colab Notebooks/my_package'\n",
        "!mv '/content/module2.py' '/content/drive/MyDrive/Colab Notebooks/my_package'"
      ],
      "metadata": {
        "id": "pu1sakOzv8ps"
      },
      "execution_count": null,
      "outputs": []
    },
    {
      "cell_type": "code",
      "source": [
        "import sys\n",
        "sys.path.append(\"/content/drive/MyDrive/Colab Notebooks/my_package\")\n",
        "\n",
        "import module1\n",
        "\n",
        "module1.function1()  # Output: This is function1 in module1.\n",
        "#module2.function2()  # Output: This is function2 in module2.\n"
      ],
      "metadata": {
        "colab": {
          "base_uri": "https://localhost:8080/",
          "height": 384
        },
        "id": "jFxQAZZ-wvs7",
        "outputId": "e75cd942-34aa-4c07-fba9-b0f2ddbb37b1"
      },
      "execution_count": null,
      "outputs": [
        {
          "output_type": "error",
          "ename": "ModuleNotFoundError",
          "evalue": "No module named 'module1'",
          "traceback": [
            "\u001b[0;31m---------------------------------------------------------------------------\u001b[0m",
            "\u001b[0;31mModuleNotFoundError\u001b[0m                       Traceback (most recent call last)",
            "\u001b[0;32m<ipython-input-51-5724c1eb09b8>\u001b[0m in \u001b[0;36m<cell line: 4>\u001b[0;34m()\u001b[0m\n\u001b[1;32m      2\u001b[0m \u001b[0msys\u001b[0m\u001b[0;34m.\u001b[0m\u001b[0mpath\u001b[0m\u001b[0;34m.\u001b[0m\u001b[0mappend\u001b[0m\u001b[0;34m(\u001b[0m\u001b[0;34m\"/content/drive/MyDrive/Colab Notebooks/my_package\"\u001b[0m\u001b[0;34m)\u001b[0m\u001b[0;34m\u001b[0m\u001b[0;34m\u001b[0m\u001b[0m\n\u001b[1;32m      3\u001b[0m \u001b[0;34m\u001b[0m\u001b[0m\n\u001b[0;32m----> 4\u001b[0;31m \u001b[0;32mimport\u001b[0m \u001b[0mmodule1\u001b[0m\u001b[0;34m\u001b[0m\u001b[0;34m\u001b[0m\u001b[0m\n\u001b[0m\u001b[1;32m      5\u001b[0m \u001b[0;34m\u001b[0m\u001b[0m\n\u001b[1;32m      6\u001b[0m \u001b[0mmodule1\u001b[0m\u001b[0;34m.\u001b[0m\u001b[0mfunction1\u001b[0m\u001b[0;34m(\u001b[0m\u001b[0;34m)\u001b[0m  \u001b[0;31m# Output: This is function1 in module1.\u001b[0m\u001b[0;34m\u001b[0m\u001b[0;34m\u001b[0m\u001b[0m\n",
            "\u001b[0;31mModuleNotFoundError\u001b[0m: No module named 'module1'",
            "",
            "\u001b[0;31m---------------------------------------------------------------------------\u001b[0;32m\nNOTE: If your import is failing due to a missing package, you can\nmanually install dependencies using either !pip or !apt.\n\nTo view examples of installing some common dependencies, click the\n\"Open Examples\" button below.\n\u001b[0;31m---------------------------------------------------------------------------\u001b[0m\n"
          ],
          "errorDetails": {
            "actions": [
              {
                "action": "open_url",
                "actionText": "Open Examples",
                "url": "/notebooks/snippets/importing_libraries.ipynb"
              }
            ]
          }
        }
      ]
    },
    {
      "cell_type": "code",
      "source": [
        "import sys\n",
        "sys.path.append('/content/drive/MyDrive/Colab Notebooks')\n",
        "\n",
        "from my_package import module1, module2\n",
        "\n",
        "module1.function1()  # Output: This is function1 in module1.\n",
        "module2.function2()  # Output: This is function2 in module2.\n"
      ],
      "metadata": {
        "colab": {
          "base_uri": "https://localhost:8080/",
          "height": 384
        },
        "id": "jO4hR1cfx-BR",
        "outputId": "0e8b429c-840c-4aa4-8839-cd6af7048f31"
      },
      "execution_count": null,
      "outputs": [
        {
          "output_type": "error",
          "ename": "ImportError",
          "evalue": "cannot import name 'module1' from 'my_package' (unknown location)",
          "traceback": [
            "\u001b[0;31m---------------------------------------------------------------------------\u001b[0m",
            "\u001b[0;31mImportError\u001b[0m                               Traceback (most recent call last)",
            "\u001b[0;32m<ipython-input-18-0a65468a1172>\u001b[0m in \u001b[0;36m<cell line: 4>\u001b[0;34m()\u001b[0m\n\u001b[1;32m      2\u001b[0m \u001b[0msys\u001b[0m\u001b[0;34m.\u001b[0m\u001b[0mpath\u001b[0m\u001b[0;34m.\u001b[0m\u001b[0mappend\u001b[0m\u001b[0;34m(\u001b[0m\u001b[0;34m'/content/drive/MyDrive/Colab Notebooks'\u001b[0m\u001b[0;34m)\u001b[0m\u001b[0;34m\u001b[0m\u001b[0;34m\u001b[0m\u001b[0m\n\u001b[1;32m      3\u001b[0m \u001b[0;34m\u001b[0m\u001b[0m\n\u001b[0;32m----> 4\u001b[0;31m \u001b[0;32mfrom\u001b[0m \u001b[0mmy_package\u001b[0m \u001b[0;32mimport\u001b[0m \u001b[0mmodule1\u001b[0m\u001b[0;34m,\u001b[0m \u001b[0mmodule2\u001b[0m\u001b[0;34m\u001b[0m\u001b[0;34m\u001b[0m\u001b[0m\n\u001b[0m\u001b[1;32m      5\u001b[0m \u001b[0;34m\u001b[0m\u001b[0m\n\u001b[1;32m      6\u001b[0m \u001b[0mmodule1\u001b[0m\u001b[0;34m.\u001b[0m\u001b[0mfunction1\u001b[0m\u001b[0;34m(\u001b[0m\u001b[0;34m)\u001b[0m  \u001b[0;31m# Output: This is function1 in module1.\u001b[0m\u001b[0;34m\u001b[0m\u001b[0;34m\u001b[0m\u001b[0m\n",
            "\u001b[0;31mImportError\u001b[0m: cannot import name 'module1' from 'my_package' (unknown location)",
            "",
            "\u001b[0;31m---------------------------------------------------------------------------\u001b[0;32m\nNOTE: If your import is failing due to a missing package, you can\nmanually install dependencies using either !pip or !apt.\n\nTo view examples of installing some common dependencies, click the\n\"Open Examples\" button below.\n\u001b[0;31m---------------------------------------------------------------------------\u001b[0m\n"
          ],
          "errorDetails": {
            "actions": [
              {
                "action": "open_url",
                "actionText": "Open Examples",
                "url": "/notebooks/snippets/importing_libraries.ipynb"
              }
            ]
          }
        }
      ]
    },
    {
      "cell_type": "code",
      "source": [
        "!mkdir sub_package"
      ],
      "metadata": {
        "id": "edooxRY_zqLw"
      },
      "execution_count": null,
      "outputs": []
    },
    {
      "cell_type": "code",
      "source": [
        "%%writefile sub_module.py\n",
        "\n",
        "def function3():\n",
        "    print(\"This is function3 in submodule.\")"
      ],
      "metadata": {
        "colab": {
          "base_uri": "https://localhost:8080/"
        },
        "id": "ULIcke4RzyBm",
        "outputId": "2057f8d8-ed73-4b77-d1ff-49a87ddc8582"
      },
      "execution_count": null,
      "outputs": [
        {
          "output_type": "stream",
          "name": "stdout",
          "text": [
            "Writing sub_module.py\n"
          ]
        }
      ]
    },
    {
      "cell_type": "code",
      "source": [
        "!mv sub_module.py '/content/sub_package'"
      ],
      "metadata": {
        "id": "-uEYCSmd0b_W"
      },
      "execution_count": null,
      "outputs": []
    },
    {
      "cell_type": "code",
      "source": [
        "!mv '/content/sub_package' '/content/drive/MyDrive/Colab Notebooks/my_package'"
      ],
      "metadata": {
        "id": "YBNVz7xe0kz0"
      },
      "execution_count": null,
      "outputs": []
    },
    {
      "cell_type": "code",
      "source": [
        "!ls '/content/drive/MyDrive/Colab Notebooks/my_package'\n",
        "!ls '/content/drive/MyDrive/Colab Notebooks/my_package/sub_package'"
      ],
      "metadata": {
        "colab": {
          "base_uri": "https://localhost:8080/"
        },
        "id": "ohK0njh-1Cjj",
        "outputId": "7caf5ced-d211-44e2-b70c-df30666a8652"
      },
      "execution_count": null,
      "outputs": [
        {
          "output_type": "stream",
          "name": "stdout",
          "text": [
            "module1.py  module2.py\tsub_package\n",
            "sub_module.py\n"
          ]
        }
      ]
    },
    {
      "cell_type": "code",
      "source": [
        "from my_package.sub_package import sub_module\n",
        "\n",
        "sub_module.function3()  # Output: This is function3 in sub_module."
      ],
      "metadata": {
        "colab": {
          "base_uri": "https://localhost:8080/",
          "height": 349
        },
        "id": "3ph0VExD1Rg7",
        "outputId": "00e803c3-870d-4011-d5bf-cbd028160ff7"
      },
      "execution_count": null,
      "outputs": [
        {
          "output_type": "error",
          "ename": "ModuleNotFoundError",
          "evalue": "No module named 'my_package.sub_package'",
          "traceback": [
            "\u001b[0;31m---------------------------------------------------------------------------\u001b[0m",
            "\u001b[0;31mModuleNotFoundError\u001b[0m                       Traceback (most recent call last)",
            "\u001b[0;32m<ipython-input-29-a198c47c17d3>\u001b[0m in \u001b[0;36m<cell line: 1>\u001b[0;34m()\u001b[0m\n\u001b[0;32m----> 1\u001b[0;31m \u001b[0;32mfrom\u001b[0m \u001b[0mmy_package\u001b[0m\u001b[0;34m.\u001b[0m\u001b[0msub_package\u001b[0m \u001b[0;32mimport\u001b[0m \u001b[0msub_module\u001b[0m\u001b[0;34m\u001b[0m\u001b[0;34m\u001b[0m\u001b[0m\n\u001b[0m\u001b[1;32m      2\u001b[0m \u001b[0;34m\u001b[0m\u001b[0m\n\u001b[1;32m      3\u001b[0m \u001b[0msub_module\u001b[0m\u001b[0;34m.\u001b[0m\u001b[0mfunction3\u001b[0m\u001b[0;34m(\u001b[0m\u001b[0;34m)\u001b[0m  \u001b[0;31m# Output: This is function3 in sub_module.\u001b[0m\u001b[0;34m\u001b[0m\u001b[0;34m\u001b[0m\u001b[0m\n",
            "\u001b[0;31mModuleNotFoundError\u001b[0m: No module named 'my_package.sub_package'",
            "",
            "\u001b[0;31m---------------------------------------------------------------------------\u001b[0;32m\nNOTE: If your import is failing due to a missing package, you can\nmanually install dependencies using either !pip or !apt.\n\nTo view examples of installing some common dependencies, click the\n\"Open Examples\" button below.\n\u001b[0;31m---------------------------------------------------------------------------\u001b[0m\n"
          ],
          "errorDetails": {
            "actions": [
              {
                "action": "open_url",
                "actionText": "Open Examples",
                "url": "/notebooks/snippets/importing_libraries.ipynb"
              }
            ]
          }
        }
      ]
    },
    {
      "cell_type": "code",
      "source": [
        "def student(firstname,lastname='Mark',standard='Fifth'):\n",
        "  print(firstname,lastname, 'studies in', standard,'standard')\n",
        "\n",
        "student(lastname='John', firstname='Mark')"
      ],
      "metadata": {
        "colab": {
          "base_uri": "https://localhost:8080/"
        },
        "id": "wE-RrW1Ch_4P",
        "outputId": "059c719a-4c01-43cb-b8d2-fe69fa6b4047"
      },
      "execution_count": null,
      "outputs": [
        {
          "output_type": "stream",
          "name": "stdout",
          "text": [
            "Mark John studies in Fifth standard\n"
          ]
        }
      ]
    },
    {
      "cell_type": "code",
      "source": [
        "def myFun(*args):\n",
        "  for arg in args:\n",
        "    print(arg)\n",
        "\n",
        "myFun('Hello','Welcome','to','GeeksforGeeks')"
      ],
      "metadata": {
        "colab": {
          "base_uri": "https://localhost:8080/"
        },
        "id": "MhZED8k4jVBZ",
        "outputId": "cef261dc-f77b-48cb-8de6-bc8543ec631e"
      },
      "execution_count": null,
      "outputs": [
        {
          "output_type": "stream",
          "name": "stdout",
          "text": [
            "Hello\n",
            "Welcome\n",
            "to\n",
            "GeeksforGeeks\n"
          ]
        }
      ]
    },
    {
      "cell_type": "code",
      "source": [
        "X=99\n",
        "def func():\n",
        "\n",
        "  global X\n",
        "  X = 88\n",
        "\n",
        "  print(X)\n",
        "\n",
        "func()\n",
        "print(X)\n"
      ],
      "metadata": {
        "colab": {
          "base_uri": "https://localhost:8080/"
        },
        "id": "dZRy83wfkdty",
        "outputId": "27e12774-ad81-4ebb-b0f3-26c9be324f58"
      },
      "execution_count": null,
      "outputs": [
        {
          "output_type": "stream",
          "name": "stdout",
          "text": [
            "88\n",
            "88\n"
          ]
        }
      ]
    },
    {
      "cell_type": "code",
      "source": [
        "#!python /content/drive/MyDrive/my_module.py\n",
        "#!python '/content/drive/MyDrive/Colab Notebooks/my_package/my_module1.py'"
      ],
      "metadata": {
        "colab": {
          "base_uri": "https://localhost:8080/"
        },
        "id": "x9hLN6A9eNuZ",
        "outputId": "38139cbe-9ddb-44cb-fe43-9711bd1bcf07"
      },
      "execution_count": null,
      "outputs": [
        {
          "output_type": "stream",
          "name": "stdout",
          "text": [
            "Hello from my_module!\n"
          ]
        }
      ]
    },
    {
      "cell_type": "code",
      "source": [
        "# Import the package and module from Google Drive\n",
        "#import sys\n",
        "#sys.path.append('/content/drive/MyDrive/Colab Notebooks/my_package/my_module1.py')\n",
        "#sys.path.insert(0,'/content/drive/MyDrive')\n",
        "#import my_module1\n",
        "\n",
        "# Use the module function\n",
        "#my_module1.say_hello()  # Output: Hello from my_module!\n"
      ],
      "metadata": {
        "colab": {
          "base_uri": "https://localhost:8080/"
        },
        "id": "nUl2jDNMU9Nq",
        "outputId": "98416ff6-03cf-4270-8c44-a59bd566d1be"
      },
      "execution_count": null,
      "outputs": [
        {
          "output_type": "stream",
          "name": "stdout",
          "text": [
            "Hello from my_module!\n"
          ]
        }
      ]
    }
  ]
}